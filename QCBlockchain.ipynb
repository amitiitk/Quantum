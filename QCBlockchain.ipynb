{
  "nbformat": 4,
  "nbformat_minor": 0,
  "metadata": {
    "colab": {
      "provenance": [],
      "authorship_tag": "ABX9TyM5lpI+h45T7bI3/E4HYMGB",
      "include_colab_link": true
    },
    "kernelspec": {
      "name": "python3",
      "display_name": "Python 3"
    },
    "language_info": {
      "name": "python"
    }
  },
  "cells": [
    {
      "cell_type": "markdown",
      "metadata": {
        "id": "view-in-github",
        "colab_type": "text"
      },
      "source": [
        "<a href=\"https://colab.research.google.com/github/amitiitk/Quantum/blob/main/QCBlockchain.ipynb\" target=\"_parent\"><img src=\"https://colab.research.google.com/assets/colab-badge.svg\" alt=\"Open In Colab\"/></a>"
      ]
    },
    {
      "cell_type": "code",
      "execution_count": null,
      "metadata": {
        "colab": {
          "base_uri": "https://localhost:8080/"
        },
        "id": "Q0mxpAzUhu5U",
        "outputId": "bd308faa-e144-43c7-c106-55d466750d70"
      },
      "outputs": [
        {
          "output_type": "stream",
          "name": "stdout",
          "text": [
            "Enter username: Alice\n",
            "Enter password: password123\n",
            "Transaction forwarded to the next layer.\n",
            "Encrypted Transaction: -afv_3o5Oq9LuV6IzULjiV5jj9imZmvRBI21basWh04zH3V-pg_7W21qKuWv0aW7eClnEJIG_n71XcPgB3YCqhrZBpyStQ==\n",
            "Validation Status: Valid\n"
          ]
        }
      ],
      "source": [
        "from cryptography.hazmat.primitives.ciphers import Cipher, algorithms, modes\n",
        "from cryptography.hazmat.backends import default_backend\n",
        "from cryptography.hazmat.primitives.kdf.scrypt import Scrypt\n",
        "from base64 import urlsafe_b64encode\n",
        "import os\n",
        "class TransactionInitialization:\n",
        "\n",
        "    def __init__(self, security_parameters, valid_user_credentials):\n",
        "        self.security_parameters = security_parameters\n",
        "        self.valid_user_credentials = valid_user_credentials\n",
        "\n",
        "    def validate_user(self, user_credentials):\n",
        "        if (self.valid_user_credentials['username'] == user_credentials['username'] and\n",
        "            self.valid_user_credentials['password'] == user_credentials['password']):\n",
        "            return True\n",
        "        else:\n",
        "            print(\"Invalid user credentials!\")\n",
        "            return False\n",
        "\n",
        "    def encrypt_transaction(self, transaction_data):\n",
        "        key = self._derive_key(self.security_parameters['password'])\n",
        "        iv = os.urandom(12)\n",
        "        encryptor = Cipher(\n",
        "            algorithms.AES(key),\n",
        "            modes.GCM(iv),\n",
        "            backend=default_backend()\n",
        "        ).encryptor()\n",
        "\n",
        "        encrypted_data = encryptor.update(transaction_data.encode()) + encryptor.finalize()\n",
        "        return iv + encrypted_data + encryptor.tag\n",
        "\n",
        "    def validate_transaction(self, transaction_data):\n",
        "        if transaction_data:\n",
        "            return \"Valid\"\n",
        "        else:\n",
        "            return \"Invalid\"\n",
        "\n",
        "    def forward_to_next_layer(self, encrypted_transaction):\n",
        "        print(\"Transaction forwarded to the next layer.\")\n",
        "\n",
        "    def _derive_key(self, password):\n",
        "        salt = os.urandom(16)\n",
        "        kdf = Scrypt(\n",
        "            salt=salt,\n",
        "            length=32,\n",
        "            n=2**14,\n",
        "            r=8,\n",
        "            p=1,\n",
        "            backend=default_backend()\n",
        "        )\n",
        "        return kdf.derive(password.encode())\n",
        "\n",
        "    def initialize_transaction(self, transaction_data, user_credentials):\n",
        "        # Step 1: Validate User Credentials\n",
        "        if not self.validate_user(user_credentials):\n",
        "            return None, \"Invalid user credentials\"\n",
        "\n",
        "        # Step 2: Encrypt Transaction Data\n",
        "        encrypted_transaction = self.encrypt_transaction(transaction_data)\n",
        "\n",
        "        # Step 3: Validate Transaction\n",
        "        validation_status = self.validate_transaction(transaction_data)\n",
        "        if validation_status == \"Valid\":\n",
        "            # Step 4: Forward to Next Layer\n",
        "            self.forward_to_next_layer(encrypted_transaction)\n",
        "        return encrypted_transaction, validation_status\n",
        "security_parameters = {\n",
        "    'password': 'strongpassword123',\n",
        "}\n",
        "\n",
        "# Predefined valid user credentials (for simplicity)\n",
        "valid_user_credentials = {\"username\": \"Alice\", \"password\": \"password123\"}\n",
        "\n",
        "# Simulating user input for credentials\n",
        "user_credentials = {\n",
        "    \"username\": input(\"Enter username: \"),\n",
        "    \"password\": input(\"Enter password: \")\n",
        "}\n",
        "\n",
        "transaction_data = \"Sender: Alice, Recipient: Bob, Amount: 100\"\n",
        "\n",
        "transaction_init = TransactionInitialization(security_parameters, valid_user_credentials)\n",
        "encrypted_transaction, status = transaction_init.initialize_transaction(transaction_data, user_credentials)\n",
        "\n",
        "if encrypted_transaction:\n",
        "    print(\"Encrypted Transaction:\", urlsafe_b64encode(encrypted_transaction).decode())\n",
        "print(\"Validation Status:\", status)\n"
      ]
    },
    {
      "cell_type": "code",
      "source": [
        "import random\n",
        "import functools\n",
        "\n",
        "class SecureMPC:\n",
        "\n",
        "    def __init__(self, n, threshold):\n",
        "        self.n = n  # Number of parties\n",
        "        self.threshold = threshold  # Threshold for secret sharing\n",
        "\n",
        "    def secret_share(self, data):\n",
        "        \"\"\" Splits data into n shares using (threshold, n) Shamir's Secret Sharing \"\"\"\n",
        "        coefficients = [random.randint(1, 100) for _ in range(self.threshold)]\n",
        "        shares = [(i, self._polynomial_eval(coefficients, i)) for i in range(1, self.n + 1)]\n",
        "        return shares\n",
        "\n",
        "    def _polynomial_eval(self, coefficients, x):\n",
        "        \"\"\" Evaluates a polynomial with given coefficients at x \"\"\"\n",
        "        return sum([coeff * (x ** i) for i, coeff in enumerate(coefficients)])\n",
        "\n",
        "    def local_computation(self, share, computation_function):\n",
        "        \"\"\" Computes the function on the share \"\"\"\n",
        "        return computation_function(share[1])\n",
        "\n",
        "    def reconstruct_secret(self, shares):\n",
        "        \"\"\" Reconstructs the secret from shares using Lagrange interpolation \"\"\"\n",
        "        def lagrange_interpolate(x, x_s, y_s):\n",
        "            total = 0\n",
        "            n = len(x_s)\n",
        "            for i in range(n):\n",
        "                xi, yi = x_s[i], y_s[i]\n",
        "                li = functools.reduce(lambda a, b: a * b, [(x - x_s[m]) / (xi - x_s[m]) for m in range(n) if m != i])\n",
        "                total += yi * li\n",
        "            return total\n",
        "\n",
        "        x_s, y_s = zip(*shares)\n",
        "        return round(lagrange_interpolate(0, x_s, y_s))\n",
        "\n",
        "    def mpc_protocol(self, data, computation_function):\n",
        "        # Step 1: Secret Sharing\n",
        "        shares = self.secret_share(data)\n",
        "\n",
        "        # Step 2: Secure Local Computation\n",
        "        partial_results = [self.local_computation(share, computation_function) for share in shares]\n",
        "\n",
        "        # Step 3: Result Aggregation\n",
        "        final_result = self.reconstruct_secret(list(zip(range(1, self.n + 1), partial_results)))\n",
        "\n",
        "        return final_result\n",
        "def simple_sum(x):\n",
        "    return x + 10\n",
        "\n",
        "data = 12345  # Secret data to be shared\n",
        "n = 5  # Number of parties\n",
        "threshold = 3  # Minimum number of shares required to reconstruct the secret\n",
        "\n",
        "mpc = SecureMPC(n, threshold)\n",
        "result = mpc.mpc_protocol(data, simple_sum)\n",
        "\n",
        "print(\"Final Computation Result:\", result)\n"
      ],
      "metadata": {
        "colab": {
          "base_uri": "https://localhost:8080/"
        },
        "id": "cmNMqZ35iA4x",
        "outputId": "42ca7f20-b33a-4b71-ba12-29d75782dc25"
      },
      "execution_count": null,
      "outputs": [
        {
          "output_type": "stream",
          "name": "stdout",
          "text": [
            "Final Computation Result: 46\n"
          ]
        }
      ]
    },
    {
      "cell_type": "code",
      "source": [
        "from cryptography.hazmat.primitives.asymmetric import rsa\n",
        "from cryptography.hazmat.primitives import serialization, hashes\n",
        "from cryptography.hazmat.primitives.asymmetric import padding\n",
        "from cryptography.hazmat.backends import default_backend\n",
        "import base64\n",
        "\n",
        "class LatticeCryptoOps:\n",
        "\n",
        "    def __init__(self):\n",
        "        # Placeholder for lattice-based key pairs\n",
        "        self.private_key = None\n",
        "        self.public_key = None\n",
        "\n",
        "    def generate_keys(self):\n",
        "        \"\"\" Simulates key generation, here we use RSA as a placeholder \"\"\"\n",
        "        self.private_key = rsa.generate_private_key(\n",
        "            public_exponent=65537,\n",
        "            key_size=2048,\n",
        "            backend=default_backend()\n",
        "        )\n",
        "        self.public_key = self.private_key.public_key()\n",
        "\n",
        "    def encrypt_data(self, data):\n",
        "        \"\"\" Simulates lattice-based encryption, using RSA as a placeholder \"\"\"\n",
        "        encrypted_data = self.public_key.encrypt(\n",
        "            data,\n",
        "            padding.OAEP(\n",
        "                mgf=padding.MGF1(algorithm=hashes.SHA256()),\n",
        "                algorithm=hashes.SHA256(),\n",
        "                label=None\n",
        "            )\n",
        "        )\n",
        "        return base64.b64encode(encrypted_data)\n",
        "\n",
        "    def decrypt_data(self, encrypted_data):\n",
        "        \"\"\" Simulates lattice-based decryption, using RSA as a placeholder \"\"\"\n",
        "        decrypted_data = self.private_key.decrypt(\n",
        "            base64.b64decode(encrypted_data),\n",
        "            padding.OAEP(\n",
        "                mgf=padding.MGF1(algorithm=hashes.SHA256()),\n",
        "                algorithm=hashes.SHA256(),\n",
        "                label=None\n",
        "            )\n",
        "        )\n",
        "        return decrypted_data\n",
        "\n",
        "    def sign_data(self, data):\n",
        "        \"\"\" Simulates lattice-based signing, using RSA as a placeholder \"\"\"\n",
        "        signature = self.private_key.sign(\n",
        "            data,\n",
        "            padding.PSS(\n",
        "                mgf=padding.MGF1(hashes.SHA256()),\n",
        "                salt_length=padding.PSS.MAX_LENGTH\n",
        "            ),\n",
        "            hashes.SHA256()\n",
        "        )\n",
        "        return base64.b64encode(signature)\n",
        "\n",
        "    def verify_signature(self, data, signature):\n",
        "        \"\"\" Simulates lattice-based signature verification, using RSA as a placeholder \"\"\"\n",
        "        try:\n",
        "            self.public_key.verify(\n",
        "                base64.b64decode(signature),\n",
        "                data,\n",
        "                padding.PSS(\n",
        "                    mgf=padding.MGF1(hashes.SHA256()),\n",
        "                    salt_length=padding.PSS.MAX_LENGTH\n",
        "                ),\n",
        "                hashes.SHA256()\n",
        "            )\n",
        "            return \"Valid\"\n",
        "        except Exception as e:\n",
        "            return \"Invalid\"\n",
        "\n",
        "\n",
        "# Example Usage:\n",
        "crypto_ops = LatticeCryptoOps()\n",
        "crypto_ops.generate_keys()\n",
        "\n",
        "# Simulate encryption and decryption\n",
        "data = b\"Secure transaction data\"\n",
        "encrypted_data = crypto_ops.encrypt_data(data)\n",
        "decrypted_data = crypto_ops.decrypt_data(encrypted_data)\n",
        "\n",
        "print(\"Original Data:\", data)\n",
        "print(\"Encrypted Data:\", encrypted_data)\n",
        "print(\"Decrypted Data:\", decrypted_data)\n",
        "\n",
        "# Simulate signing and verification\n",
        "signature = crypto_ops.sign_data(data)\n",
        "verification_result = crypto_ops.verify_signature(data, signature)\n",
        "\n",
        "print(\"Signature:\", signature)\n",
        "print(\"Verification Result:\", verification_result)\n"
      ],
      "metadata": {
        "colab": {
          "base_uri": "https://localhost:8080/"
        },
        "id": "yMifltZfyQ5R",
        "outputId": "9f92e1a8-c747-4098-db52-496415568841"
      },
      "execution_count": null,
      "outputs": [
        {
          "output_type": "stream",
          "name": "stdout",
          "text": [
            "Original Data: b'Secure transaction data'\n",
            "Encrypted Data: b'gcJnHmxWHpXUxC9/K+39OfG8roEj2fWx/8ZSUFE67ePqWpcinjYpOZGStMnfeU8d9KIgg0nDi/IgIwzLc2Rhnq4qNM9jkRi1MeYw/Ixc+fwIJ+jOUV6Pg3BCLVjdwgoPyhUl34hXd/viaz+uELImCka7sRnbV/vYwlg6whN17MM5ZT7l+1lEv9zDlwo9Ob8yTXy58juXOFzBMyTZUUTC3cOkmvGyV9ZmskROIU2XiD1ITTQO301FzuUvxCxhpNpU/Ahig8qIQZORWeC21sJutubw4VpnHUroHEv2OanRR8vDcmZe9YqHmmzaPFFbuaqsx+GoUmtmJl2Jaj1rFOXokg=='\n",
            "Decrypted Data: b'Secure transaction data'\n",
            "Signature: b'VqOw1RYZnzPooY24DoD7wRK6212xfEbeZKAd+g5t9plZTcEjH2sUOZ4za8ZvEZ29PrQYIq7s/Ip8gDCXd2eZLK+OGJ43bL5j59H9wCsE/LJrItaQtxiQlBlLRqP37eI5wZDIl93A9mejp9UZiukXDE4R0HQ0u9m4fXWbTCwJFEQzLBAGFcNRvfWale7tASaKqmnZnGLHK5fpdIizyA7dZPx5emJ5BJ+9AQBemdEDZa2jmJ8FVVRXkr+3RP57bPxtTHtp74xMu4oK93uvvKlv4LVNHh34xKkm5MhBKK3WZWeomrTu4OgjfYSXQ66j1o4yaWL21eFCU49FeqIG+GO5cw=='\n",
            "Verification Result: Valid\n"
          ]
        }
      ]
    },
    {
      "cell_type": "code",
      "source": [
        "import random\n",
        "\n",
        "class ConsensusMechanism:\n",
        "\n",
        "    def __init__(self, nodes, threshold):\n",
        "        self.nodes = nodes  # List of nodes in the network\n",
        "        self.threshold = threshold  # Threshold required for consensus\n",
        "\n",
        "    def validate_block(self, block):\n",
        "        \"\"\" Validates the proposed block \"\"\"\n",
        "        # Placeholder for block validation logic\n",
        "        # Example: check block structure, transactions, etc.\n",
        "        return block.get('valid', True)\n",
        "\n",
        "    def is_leader(self, node):\n",
        "        \"\"\" Determines if the given node is the leader \"\"\"\n",
        "        # For simplicity, randomly determine a leader\n",
        "        return node == self.nodes[0]  # Simulate that the first node is the leader\n",
        "\n",
        "    def broadcast_block(self, block):\n",
        "        \"\"\" Broadcast the block to all nodes \"\"\"\n",
        "        print(f\"Broadcasting block {block['id']} to all nodes...\")\n",
        "\n",
        "    def collect_votes(self, block):\n",
        "        \"\"\" Collect votes from all nodes on whether to accept the block \"\"\"\n",
        "        votes = {}\n",
        "        for node in self.nodes:\n",
        "            vote = self.vote_on_block(block)\n",
        "            votes[node] = vote\n",
        "        return votes\n",
        "\n",
        "    def vote_on_block(self, block):\n",
        "        \"\"\" Simulates a node voting on the block \"\"\"\n",
        "        # For simplicity, nodes vote 'True' if the block is valid\n",
        "        return self.validate_block(block)\n",
        "\n",
        "    def determine_consensus(self, votes):\n",
        "        \"\"\" Determines if consensus is reached based on votes \"\"\"\n",
        "        vote_count = sum(votes.values())\n",
        "        return vote_count >= self.threshold\n",
        "\n",
        "    def update_blockchain_state(self, blockchain_state, block):\n",
        "        \"\"\" Updates the blockchain state if consensus is reached \"\"\"\n",
        "        blockchain_state.append(block)\n",
        "        print(f\"Block {block['id']} added to the blockchain.\")\n",
        "        return blockchain_state\n",
        "\n",
        "    def reach_consensus(self, block, blockchain_state):\n",
        "        \"\"\" Main consensus mechanism procedure \"\"\"\n",
        "        if not self.validate_block(block):\n",
        "            return \"Rejected\", blockchain_state\n",
        "\n",
        "        leader = self.nodes[0]  # For simplicity, first node is the leader\n",
        "        if self.is_leader(leader):\n",
        "            self.broadcast_block(block)\n",
        "\n",
        "        votes = self.collect_votes(block)\n",
        "        consensus_reached = self.determine_consensus(votes)\n",
        "\n",
        "        if consensus_reached:\n",
        "            blockchain_state = self.update_blockchain_state(blockchain_state, block)\n",
        "            return \"Accepted\", blockchain_state\n",
        "        else:\n",
        "            return \"Rejected\", blockchain_state\n",
        "\n",
        "\n",
        "# Example Usage:\n",
        "nodes = ['Node1', 'Node2', 'Node3', 'Node4', 'Node5']\n",
        "threshold = 3  # At least 3 votes needed for consensus\n",
        "\n",
        "blockchain_state = []  # Initial blockchain state\n",
        "consensus_mechanism = ConsensusMechanism(nodes, threshold)\n",
        "\n",
        "# Example block\n",
        "block = {\n",
        "    'id': 1,\n",
        "    'data': \"Some transaction data\",\n",
        "    'valid': True  # This simulates whether the block is valid\n",
        "}\n",
        "\n",
        "result, blockchain_state = consensus_mechanism.reach_consensus(block, blockchain_state)\n",
        "\n",
        "print(\"Consensus Result:\", result)\n",
        "print(\"Blockchain State:\", blockchain_state)\n"
      ],
      "metadata": {
        "colab": {
          "base_uri": "https://localhost:8080/"
        },
        "id": "PYlG-cJ5ybKf",
        "outputId": "8e627267-5d6f-45df-ac9c-daa60cb556d3"
      },
      "execution_count": null,
      "outputs": [
        {
          "output_type": "stream",
          "name": "stdout",
          "text": [
            "Broadcasting block 1 to all nodes...\n",
            "Block 1 added to the blockchain.\n",
            "Consensus Result: Accepted\n",
            "Blockchain State: [{'id': 1, 'data': 'Some transaction data', 'valid': True}]\n"
          ]
        }
      ]
    },
    {
      "cell_type": "code",
      "source": [
        "import hashlib\n",
        "\n",
        "class ZKProofSystem:\n",
        "\n",
        "    def __init__(self):\n",
        "        pass\n",
        "\n",
        "    def generate_proof(self, data, proof_parameters):\n",
        "        \"\"\"Generates a zero-knowledge proof by hashing the data and adding a challenge\"\"\"\n",
        "        hashed_data = hashlib.sha256(data.encode()).hexdigest()\n",
        "        print(f\"Generated Hash (Proof): {hashed_data}\")  # Debugging hash value during proof generation\n",
        "        # Use a unique separator to avoid conflicts with the challenge content\n",
        "        proof = f\"{hashed_data}::{proof_parameters['challenge']}\"\n",
        "        return proof\n",
        "\n",
        "    def verify_proof(self, data, proof, challenge):\n",
        "        \"\"\"Verifies the proof by recomputing the hash and checking the challenge\"\"\"\n",
        "        # Recompute the hash of the data\n",
        "        recomputed_hash = hashlib.sha256(data.encode()).hexdigest()\n",
        "        print(f\"Recomputed Hash (Verification): {recomputed_hash}\")  # Debugging hash value during verification\n",
        "\n",
        "        # Extract the hash and challenge from the proof using the unique separator (::)\n",
        "        proof_hash, proof_challenge = proof.split(\"::\", 1)  # Split using the custom separator\n",
        "\n",
        "        # Debugging the challenge comparison\n",
        "        print(f\"Proof Challenge: {proof_challenge}\")\n",
        "        print(f\"Expected Challenge: {challenge}\")\n",
        "\n",
        "        # Verify if both the hash and the challenge match\n",
        "        if recomputed_hash == proof_hash and proof_challenge == challenge:\n",
        "            return \"Valid\"\n",
        "        else:\n",
        "            return \"Invalid\"\n",
        "\n",
        "# Example Usage\n",
        "zkp_system = ZKProofSystem()\n",
        "\n",
        "# Data to prove without revealing\n",
        "data = \"Sensitive transaction data\"\n",
        "proof_parameters = {\"challenge\": \"secret-challenge\"}  # Correct full challenge\n",
        "\n",
        "# Generate the ZKP\n",
        "zkp = zkp_system.generate_proof(data, proof_parameters)\n",
        "print(\"Generated ZKP:\", zkp)\n",
        "\n",
        "# Verify the ZKP\n",
        "verification_status = zkp_system.verify_proof(data, zkp, proof_parameters[\"challenge\"])\n",
        "print(\"Verification Status:\", verification_status)\n"
      ],
      "metadata": {
        "colab": {
          "base_uri": "https://localhost:8080/"
        },
        "id": "fpVl1MscygIY",
        "outputId": "abbe6b8a-d781-42da-856e-624935582adf"
      },
      "execution_count": null,
      "outputs": [
        {
          "output_type": "stream",
          "name": "stdout",
          "text": [
            "Generated Hash (Proof): c1a8e04bbdaeca38aeb739603d3f0479c4e3dc63ee7e783ae60b1828ccab7bc4\n",
            "Generated ZKP: c1a8e04bbdaeca38aeb739603d3f0479c4e3dc63ee7e783ae60b1828ccab7bc4::secret-challenge\n",
            "Recomputed Hash (Verification): c1a8e04bbdaeca38aeb739603d3f0479c4e3dc63ee7e783ae60b1828ccab7bc4\n",
            "Proof Challenge: secret-challenge\n",
            "Expected Challenge: secret-challenge\n",
            "Verification Status: Valid\n"
          ]
        }
      ]
    },
    {
      "cell_type": "code",
      "source": [
        "class OutputVerificationSystem:\n",
        "\n",
        "    def __init__(self):\n",
        "        # Placeholder for initialization, if needed\n",
        "        pass\n",
        "\n",
        "    def final_verification(self, zkp, blockchain_state):\n",
        "        \"\"\" Simulates the final verification of the ZKP against the blockchain state \"\"\"\n",
        "        # For simplicity, assume blockchain_state is a dictionary of valid ZKPs\n",
        "        if zkp in blockchain_state['zkps']:\n",
        "            return \"Valid\"\n",
        "        else:\n",
        "            return \"Invalid\"\n",
        "\n",
        "    def check_compliance(self, blockchain_state, compliance_rules):\n",
        "        \"\"\" Simulates the compliance check of the transaction \"\"\"\n",
        "        # For simplicity, assume blockchain_state contains transaction details and rules to check\n",
        "        transaction_details = blockchain_state.get('transaction_details', {})\n",
        "        for rule, value in compliance_rules.items():\n",
        "            if transaction_details.get(rule) != value:\n",
        "                return \"Invalid\"\n",
        "        return \"Valid\"\n",
        "\n",
        "    def update_ledger(self, blockchain_state, new_block):\n",
        "        \"\"\" Simulates updating the blockchain ledger with the new block \"\"\"\n",
        "        blockchain_state['ledger'].append(new_block)\n",
        "        return blockchain_state\n",
        "\n",
        "    def verify_and_validate_output(self, zkp, blockchain_state, compliance_rules):\n",
        "        \"\"\" Main function to verify and validate the transaction output \"\"\"\n",
        "        # Step 1: Final Verification\n",
        "        final_verification_status = self.final_verification(zkp, blockchain_state)\n",
        "\n",
        "        # Step 2: Check Compliance if Final Verification Passed\n",
        "        if final_verification_status == \"Valid\":\n",
        "            compliance_status = self.check_compliance(blockchain_state, compliance_rules)\n",
        "        else:\n",
        "            compliance_status = \"Invalid\"\n",
        "\n",
        "        # Step 3: Update Ledger if All Checks Passed\n",
        "        if final_verification_status == \"Valid\" and compliance_status == \"Valid\":\n",
        "            new_block = {\n",
        "                'zkp': zkp,\n",
        "                'details': blockchain_state.get('transaction_details', {})\n",
        "            }\n",
        "            updated_blockchain_state = self.update_ledger(blockchain_state, new_block)\n",
        "            return \"Valid\", \"Confirmed\", updated_blockchain_state\n",
        "        else:\n",
        "            return \"Invalid\", \"Rejected\", blockchain_state\n",
        "\n",
        "\n",
        "# Example Usage:\n",
        "blockchain_state = {\n",
        "    'zkps': [\"zkp1\", \"zkp2\", \"zkp3\"],\n",
        "    'ledger': [],\n",
        "    'transaction_details': {\"amount\": 100, \"currency\": \"USD\"}\n",
        "}\n",
        "\n",
        "compliance_rules = {\"amount\": 100, \"currency\": \"USD\"}\n",
        "\n",
        "zkp_to_verify = \"zkp2\"\n",
        "\n",
        "output_verification_system = OutputVerificationSystem()\n",
        "verification_status, confirmation, updated_blockchain_state = output_verification_system.verify_and_validate_output(\n",
        "    zkp_to_verify, blockchain_state, compliance_rules\n",
        ")\n",
        "\n",
        "print(\"Final Verification Status:\", verification_status)\n",
        "print(\"Confirmation:\", confirmation)\n",
        "print(\"Updated Blockchain State:\", updated_blockchain_state)\n"
      ],
      "metadata": {
        "colab": {
          "base_uri": "https://localhost:8080/"
        },
        "id": "uKtYEZzY0-9e",
        "outputId": "fc909cba-7444-4b5d-f55b-f31f741d7c6c"
      },
      "execution_count": null,
      "outputs": [
        {
          "output_type": "stream",
          "name": "stdout",
          "text": [
            "Final Verification Status: Valid\n",
            "Confirmation: Confirmed\n",
            "Updated Blockchain State: {'zkps': ['zkp1', 'zkp2', 'zkp3'], 'ledger': [{'zkp': 'zkp2', 'details': {'amount': 100, 'currency': 'USD'}}], 'transaction_details': {'amount': 100, 'currency': 'USD'}}\n"
          ]
        }
      ]
    },
    {
      "cell_type": "code",
      "source": [
        "import hashlib\n",
        "import os\n",
        "from cryptography.hazmat.primitives.ciphers import Cipher, algorithms, modes\n",
        "from cryptography.hazmat.backends import default_backend\n",
        "from cryptography.hazmat.primitives.kdf.scrypt import Scrypt\n",
        "from base64 import urlsafe_b64encode\n",
        "\n",
        "class TransactionInitialization:\n",
        "\n",
        "    def __init__(self, security_parameters, valid_user_credentials):\n",
        "        self.security_parameters = security_parameters\n",
        "        self.valid_user_credentials = valid_user_credentials\n",
        "\n",
        "    def validate_user(self, user_credentials):\n",
        "        \"\"\"Validates if the provided user credentials are correct\"\"\"\n",
        "        return user_credentials == self.valid_user_credentials\n",
        "\n",
        "    def encrypt_transaction(self, transaction_data):\n",
        "        \"\"\"Encrypts the transaction data using AES-GCM\"\"\"\n",
        "        key = self._derive_key(self.security_parameters['password'])\n",
        "        iv = os.urandom(12)  # 96-bit IV for AES-GCM\n",
        "        encryptor = Cipher(\n",
        "            algorithms.AES(key),\n",
        "            modes.GCM(iv),\n",
        "            backend=default_backend()\n",
        "        ).encryptor()\n",
        "\n",
        "        encrypted_data = encryptor.update(transaction_data.encode()) + encryptor.finalize()\n",
        "        return urlsafe_b64encode(iv + encrypted_data + encryptor.tag).decode()\n",
        "\n",
        "    def _derive_key(self, password):\n",
        "        \"\"\"Derives a symmetric key using Scrypt (quantum-resistant KDF)\"\"\"\n",
        "        salt = os.urandom(16)\n",
        "        kdf = Scrypt(\n",
        "            salt=salt,\n",
        "            length=32,\n",
        "            n=2**14,\n",
        "            r=8,\n",
        "            p=1,\n",
        "            backend=default_backend()\n",
        "        )\n",
        "        return kdf.derive(password.encode())\n",
        "\n",
        "    def initialize_transaction(self, transaction_data, user_credentials):\n",
        "        \"\"\"Validates user, encrypts transaction, and forwards it\"\"\"\n",
        "        # Step 1: Validate User Credentials\n",
        "        if not self.validate_user(user_credentials):\n",
        "            return None, \"Invalid user credentials\"\n",
        "\n",
        "        # Step 2: Encrypt Transaction Data\n",
        "        encrypted_transaction = self.encrypt_transaction(transaction_data)\n",
        "\n",
        "        # Step 3: Validate Transaction\n",
        "        validation_status = \"Valid\" if transaction_data else \"Invalid\"\n",
        "        if validation_status == \"Valid\":\n",
        "            # Step 4: Forward to Next Layer\n",
        "            self.forward_to_next_layer(encrypted_transaction)\n",
        "\n",
        "        return encrypted_transaction, validation_status\n",
        "\n",
        "    def forward_to_next_layer(self, encrypted_transaction):\n",
        "        \"\"\"Simulates forwarding transaction to the next layer\"\"\"\n",
        "        print(\"Transaction forwarded to the next layer:\", encrypted_transaction)\n",
        "\n",
        "\n",
        "# Main Program\n",
        "def main():\n",
        "    # Define the security parameters and valid user credentials\n",
        "    security_parameters = {'password': 'strongpassword123'}\n",
        "    valid_user_credentials = {\"username\": \"Alice\", \"password\": \"password123\"}\n",
        "\n",
        "    # Initialize TransactionInitialization with valid credentials\n",
        "    transaction_init = TransactionInitialization(security_parameters, valid_user_credentials)\n",
        "\n",
        "    # Simulate transaction initialization process\n",
        "    transaction_data = \"Sender: Alice, Recipient: Bob, Amount: 100\"\n",
        "    user_credentials = {\"username\": \"Alice\", \"password\": \"password123\"}\n",
        "\n",
        "    encrypted_transaction, validation_status = transaction_init.initialize_transaction(transaction_data, user_credentials)\n",
        "\n",
        "    print(\"Encrypted Transaction:\", encrypted_transaction)\n",
        "    print(\"Validation Status:\", validation_status)\n",
        "\n",
        "\n",
        "if __name__ == \"__main__\":\n",
        "    main()\n"
      ],
      "metadata": {
        "colab": {
          "base_uri": "https://localhost:8080/"
        },
        "id": "IN3RF3CX1Jkt",
        "outputId": "318d58b8-e21d-4b66-a7e1-43aa40b53d03"
      },
      "execution_count": null,
      "outputs": [
        {
          "output_type": "stream",
          "name": "stdout",
          "text": [
            "Transaction forwarded to the next layer: D4ieCpDp4Y085lljEAvwImUVWO8b3cp34-JBVnlQPSbGLQE90htM4TI3LBecx79_LkmoEDMiar_F1t5xSIRvNTW3Rnb1FQ==\n",
            "Encrypted Transaction: D4ieCpDp4Y085lljEAvwImUVWO8b3cp34-JBVnlQPSbGLQE90htM4TI3LBecx79_LkmoEDMiar_F1t5xSIRvNTW3Rnb1FQ==\n",
            "Validation Status: Valid\n"
          ]
        }
      ]
    },
    {
      "cell_type": "code",
      "source": [
        "pip install matplotlib seaborn"
      ],
      "metadata": {
        "colab": {
          "base_uri": "https://localhost:8080/"
        },
        "id": "j_2kU5oG1bTN",
        "outputId": "87dfeeb4-2d80-4b8b-d03a-d3e138682972"
      },
      "execution_count": null,
      "outputs": [
        {
          "output_type": "stream",
          "name": "stdout",
          "text": [
            "Requirement already satisfied: matplotlib in /usr/local/lib/python3.10/dist-packages (3.7.1)\n",
            "Requirement already satisfied: seaborn in /usr/local/lib/python3.10/dist-packages (0.13.1)\n",
            "Requirement already satisfied: contourpy>=1.0.1 in /usr/local/lib/python3.10/dist-packages (from matplotlib) (1.3.0)\n",
            "Requirement already satisfied: cycler>=0.10 in /usr/local/lib/python3.10/dist-packages (from matplotlib) (0.12.1)\n",
            "Requirement already satisfied: fonttools>=4.22.0 in /usr/local/lib/python3.10/dist-packages (from matplotlib) (4.53.1)\n",
            "Requirement already satisfied: kiwisolver>=1.0.1 in /usr/local/lib/python3.10/dist-packages (from matplotlib) (1.4.5)\n",
            "Requirement already satisfied: numpy>=1.20 in /usr/local/lib/python3.10/dist-packages (from matplotlib) (1.26.4)\n",
            "Requirement already satisfied: packaging>=20.0 in /usr/local/lib/python3.10/dist-packages (from matplotlib) (24.1)\n",
            "Requirement already satisfied: pillow>=6.2.0 in /usr/local/lib/python3.10/dist-packages (from matplotlib) (9.4.0)\n",
            "Requirement already satisfied: pyparsing>=2.3.1 in /usr/local/lib/python3.10/dist-packages (from matplotlib) (3.1.4)\n",
            "Requirement already satisfied: python-dateutil>=2.7 in /usr/local/lib/python3.10/dist-packages (from matplotlib) (2.8.2)\n",
            "Requirement already satisfied: pandas>=1.2 in /usr/local/lib/python3.10/dist-packages (from seaborn) (2.1.4)\n",
            "Requirement already satisfied: pytz>=2020.1 in /usr/local/lib/python3.10/dist-packages (from pandas>=1.2->seaborn) (2024.1)\n",
            "Requirement already satisfied: tzdata>=2022.1 in /usr/local/lib/python3.10/dist-packages (from pandas>=1.2->seaborn) (2024.1)\n",
            "Requirement already satisfied: six>=1.5 in /usr/local/lib/python3.10/dist-packages (from python-dateutil>=2.7->matplotlib) (1.16.0)\n"
          ]
        }
      ]
    },
    {
      "cell_type": "code",
      "source": [
        "from graphviz import Digraph\n",
        "\n",
        "# Create a new directed graph object with a comment\n",
        "dot = Digraph(comment='Transaction Processing Flow')\n",
        "\n",
        "# Add nodes for each step in the transaction process\n",
        "dot.node('A', 'Input Transaction Data')      # Start: Input transaction details\n",
        "dot.node('B', 'Encrypt Transaction')         # Encrypt transaction data\n",
        "dot.node('C', 'Validate Transaction')        # Validate the transaction data\n",
        "dot.node('D', 'Forward to Next Layer')       # If valid, forward the transaction\n",
        "dot.node('E', 'Handle Invalid Transactions') # Handle errors in case of invalid transactions\n",
        "\n",
        "# Add edges to represent the flow between steps\n",
        "dot.edge('A', 'B')  # From input to encryption\n",
        "dot.edge('B', 'C')  # From encryption to validation\n",
        "dot.edge('C', 'D')  # If validation succeeds, forward transaction\n",
        "dot.edge('C', 'E', constraint='false')  # If validation fails, handle invalid transactions\n",
        "\n",
        "# Save and render the flowchart to a PNG file and display it\n",
        "dot.render('transaction_processing_flow', format='png', view=True)\n"
      ],
      "metadata": {
        "colab": {
          "base_uri": "https://localhost:8080/",
          "height": 35
        },
        "id": "zAwL-fGJ1jdx",
        "outputId": "76127c31-b2ae-47d1-cbde-7190a3637809"
      },
      "execution_count": null,
      "outputs": [
        {
          "output_type": "execute_result",
          "data": {
            "text/plain": [
              "'transaction_processing_flow.png'"
            ],
            "application/vnd.google.colaboratory.intrinsic+json": {
              "type": "string"
            }
          },
          "metadata": {},
          "execution_count": 36
        }
      ]
    },
    {
      "cell_type": "code",
      "source": [
        "from google.colab import files\n",
        "\n",
        "# Assuming the file is saved as 'transaction_processing_flow.png'\n",
        "files.download('transaction_processing_flow.png')\n"
      ],
      "metadata": {
        "colab": {
          "base_uri": "https://localhost:8080/",
          "height": 17
        },
        "id": "cyXP6pEm3mVv",
        "outputId": "d6c4a303-9e2b-4824-8c7c-f3b3b91f8c18"
      },
      "execution_count": null,
      "outputs": [
        {
          "output_type": "display_data",
          "data": {
            "text/plain": [
              "<IPython.core.display.Javascript object>"
            ],
            "application/javascript": [
              "\n",
              "    async function download(id, filename, size) {\n",
              "      if (!google.colab.kernel.accessAllowed) {\n",
              "        return;\n",
              "      }\n",
              "      const div = document.createElement('div');\n",
              "      const label = document.createElement('label');\n",
              "      label.textContent = `Downloading \"${filename}\": `;\n",
              "      div.appendChild(label);\n",
              "      const progress = document.createElement('progress');\n",
              "      progress.max = size;\n",
              "      div.appendChild(progress);\n",
              "      document.body.appendChild(div);\n",
              "\n",
              "      const buffers = [];\n",
              "      let downloaded = 0;\n",
              "\n",
              "      const channel = await google.colab.kernel.comms.open(id);\n",
              "      // Send a message to notify the kernel that we're ready.\n",
              "      channel.send({})\n",
              "\n",
              "      for await (const message of channel.messages) {\n",
              "        // Send a message to notify the kernel that we're ready.\n",
              "        channel.send({})\n",
              "        if (message.buffers) {\n",
              "          for (const buffer of message.buffers) {\n",
              "            buffers.push(buffer);\n",
              "            downloaded += buffer.byteLength;\n",
              "            progress.value = downloaded;\n",
              "          }\n",
              "        }\n",
              "      }\n",
              "      const blob = new Blob(buffers, {type: 'application/binary'});\n",
              "      const a = document.createElement('a');\n",
              "      a.href = window.URL.createObjectURL(blob);\n",
              "      a.download = filename;\n",
              "      div.appendChild(a);\n",
              "      a.click();\n",
              "      div.remove();\n",
              "    }\n",
              "  "
            ]
          },
          "metadata": {}
        },
        {
          "output_type": "display_data",
          "data": {
            "text/plain": [
              "<IPython.core.display.Javascript object>"
            ],
            "application/javascript": [
              "download(\"download_90d5b594-9349-4fbf-8a01-2db3148525a4\", \"transaction_processing_flow.png\", 33921)"
            ]
          },
          "metadata": {}
        }
      ]
    },
    {
      "cell_type": "code",
      "source": [
        "import matplotlib.pyplot as plt\n",
        "import numpy as np\n",
        "\n",
        "# Updated estimated data based on research observations\n",
        "labels = ['Encryption', 'Decryption', 'ZKP Generation', 'MPC Communication']\n",
        "traditional = [0.5, 0.4, 0.7, 0.6]  # Estimated times for traditional methods (in seconds)\n",
        "quantum_resistant = [0.6, 0.5, 0.9, 0.75]  # Estimated times for quantum-resistant methods (in seconds)\n",
        "\n",
        "x = np.arange(len(labels))  # label locations\n",
        "width = 0.35  # width of the bars\n",
        "\n",
        "# Create the bar chart\n",
        "fig, ax = plt.subplots()\n",
        "rects1 = ax.bar(x - width/2, traditional, width, label='Traditional')\n",
        "rects2 = ax.bar(x + width/2, quantum_resistant, width, label='Quantum-Resistant')\n",
        "\n",
        "# Add text for labels, title, and axes ticks\n",
        "ax.set_xlabel('Operations')\n",
        "ax.set_ylabel('Time (seconds)')\n",
        "ax.set_title('Estimated Computational and Communication Overhead')\n",
        "ax.set_xticks(x)\n",
        "ax.set_xticklabels(labels)\n",
        "ax.legend()\n",
        "\n",
        "# Show the plot\n",
        "plt.show()\n"
      ],
      "metadata": {
        "colab": {
          "base_uri": "https://localhost:8080/",
          "height": 472
        },
        "id": "Bol19TWt3sf2",
        "outputId": "45ea8808-54b4-460f-dbcd-aea13a369b05"
      },
      "execution_count": null,
      "outputs": [
        {
          "output_type": "display_data",
          "data": {
            "text/plain": [
              "<Figure size 640x480 with 1 Axes>"
            ],
            "image/png": "[encoded data removed]"
          },
          "metadata": {}
        }
      ]
    },
    {
      "cell_type": "code",
      "source": [
        "pip install pycryptodome\n"
      ],
      "metadata": {
        "colab": {
          "base_uri": "https://localhost:8080/"
        },
        "id": "pxcHON9h5XK5",
        "outputId": "078985be-3e6b-4b42-f21a-a88847d61505"
      },
      "execution_count": null,
      "outputs": [
        {
          "output_type": "stream",
          "name": "stdout",
          "text": [
            "Collecting pycryptodome\n",
            "  Downloading pycryptodome-3.20.0-cp35-abi3-manylinux_2_17_x86_64.manylinux2014_x86_64.whl.metadata (3.4 kB)\n",
            "Downloading pycryptodome-3.20.0-cp35-abi3-manylinux_2_17_x86_64.manylinux2014_x86_64.whl (2.1 MB)\n",
            "\u001b[2K   \u001b[90m━━━━━━━━━━━━━━━━━━━━━━━━━━━━━━━━━━━━━━━━\u001b[0m \u001b[32m2.1/2.1 MB\u001b[0m \u001b[31m21.9 MB/s\u001b[0m eta \u001b[36m0:00:00\u001b[0m\n",
            "\u001b[?25hInstalling collected packages: pycryptodome\n",
            "Successfully installed pycryptodome-3.20.0\n"
          ]
        }
      ]
    },
    {
      "cell_type": "code",
      "source": [
        "from Crypto.PublicKey import RSA\n",
        "from Crypto.Cipher import PKCS1_OAEP\n",
        "import time\n",
        "\n",
        "# RSA Key Generation\n",
        "start_time = time.time()\n",
        "key = RSA.generate(2048)\n",
        "end_time = time.time()\n",
        "print(f\"RSA Key Generation Time: {end_time - start_time} seconds\")\n",
        "\n",
        "# Encryption\n",
        "cipher_rsa = PKCS1_OAEP.new(key.publickey())\n",
        "message = b'Sensitive transaction data'\n",
        "start_time = time.time()\n",
        "ciphertext = cipher_rsa.encrypt(message)\n",
        "end_time = time.time()\n",
        "print(f\"RSA Encryption Time: {end_time - start_time} seconds\")\n",
        "\n",
        "# Decryption\n",
        "cipher_rsa = PKCS1_OAEP.new(key)\n",
        "start_time = time.time()\n",
        "decrypted_message = cipher_rsa.decrypt(ciphertext)\n",
        "end_time = time.time()\n",
        "print(f\"RSA Decryption Time: {end_time - start_time} seconds\")\n"
      ],
      "metadata": {
        "colab": {
          "base_uri": "https://localhost:8080/"
        },
        "id": "CUhTkBrt5Kpu",
        "outputId": "d1c2a54c-d8c0-483e-ef2f-b4a6a569a099"
      },
      "execution_count": null,
      "outputs": [
        {
          "output_type": "stream",
          "name": "stdout",
          "text": [
            "RSA Key Generation Time: 5.420544385910034 seconds\n",
            "RSA Encryption Time: 0.005622148513793945 seconds\n",
            "RSA Decryption Time: 0.0030527114868164062 seconds\n"
          ]
        }
      ]
    },
    {
      "cell_type": "code",
      "source": [
        "import matplotlib.pyplot as plt\n",
        "\n",
        "# Data to plot\n",
        "labels = 'Accepted', 'Rejected'\n",
        "sizes = [85, 15]  # Hypothetical results\n",
        "colors = ['gold', 'lightcoral']\n",
        "explode = (0.1, 0)  # Explode the 1st slice\n",
        "\n",
        "# Plot the pie chart\n",
        "plt.pie(sizes, explode=explode, labels=labels, colors=colors,\n",
        "        autopct='%1.1f%%', shadow=True, startangle=140)\n",
        "\n",
        "plt.axis('equal')  # Equal aspect ratio ensures that the pie is drawn as a circle.\n",
        "plt.title('Consensus Results')\n",
        "plt.show()\n"
      ],
      "metadata": {
        "id": "vlz3K-B_5xp1",
        "outputId": "c39f9e89-7d07-49b7-dd3d-208a7c0eb0e5",
        "colab": {
          "base_uri": "https://localhost:8080/",
          "height": 428
        }
      },
      "execution_count": null,
      "outputs": [
        {
          "output_type": "display_data",
          "data": {
            "text/plain": [
              "<Figure size 640x480 with 1 Axes>"
            ],
            "image/png": "[encoded data removed]"
          },
          "metadata": {}
        }
      ]
    },
    {
      "cell_type": "code",
      "source": [
        "# Hypothetical time taken for operations (in seconds)\n",
        "T_enc = 0.6  # Time for encryption\n",
        "T_dec = 0.5  # Time for decryption\n",
        "T_ZKP = 0.9  # Time for ZKP generation\n",
        "T_MPC = 0.75 # Time for MPC operation\n",
        "\n",
        "# Number of operations\n",
        "n_enc = 10  # Number of encryption operations\n",
        "n_dec = 10  # Number of decryption operations\n",
        "m_ZKP = 5   # Number of ZKPs generated\n",
        "k_MPC = 4   # Number of MPC operations\n",
        "\n",
        "# Total computational overhead\n",
        "C_overhead = (n_enc * T_enc + n_dec * T_dec + m_ZKP * T_ZKP + k_MPC * T_MPC)\n",
        "print(\"Computational Overhead:\", C_overhead, \"seconds\")\n"
      ],
      "metadata": {
        "colab": {
          "base_uri": "https://localhost:8080/"
        },
        "id": "8rt76kJY5gHw",
        "outputId": "8befeeb8-93f2-4a8b-d99a-0e48c2365bc6"
      },
      "execution_count": null,
      "outputs": [
        {
          "output_type": "stream",
          "name": "stdout",
          "text": [
            "Computational Overhead: 18.5 seconds\n"
          ]
        }
      ]
    },
    {
      "cell_type": "code",
      "source": [
        "# Hypothetical data transmitted during operations (in kilobytes)\n",
        "D_MPC = 200  # Data per MPC operation\n",
        "D_ZKP = 150  # Data per ZKP exchange\n",
        "\n",
        "# Total communication overhead\n",
        "C_comm = (k_MPC * D_MPC + m_ZKP * D_ZKP)\n",
        "print(\"Communication Overhead:\", C_comm, \"kilobytes\")"
      ],
      "metadata": {
        "colab": {
          "base_uri": "https://localhost:8080/"
        },
        "id": "84cMHCoNV1tx",
        "outputId": "60380640-1e1e-4a43-8df0-470d8e26a08d"
      },
      "execution_count": null,
      "outputs": [
        {
          "output_type": "stream",
          "name": "stdout",
          "text": [
            "Communication Overhead: 1550 kilobytes\n"
          ]
        }
      ]
    },
    {
      "cell_type": "code",
      "source": [
        "# Hypothetical latency times (in milliseconds)\n",
        "T_consensus = 20  # Time taken to reach consensus\n",
        "L_ZKP = 15        # Latency from ZKP generation\n",
        "L_MPC = 25        # Latency from MPC operations\n",
        "\n",
        "# Total latency\n",
        "L = max(T_consensus, L_ZKP, L_MPC)\n",
        "print(\"Latency:\", L, \"milliseconds\")\n"
      ],
      "metadata": {
        "colab": {
          "base_uri": "https://localhost:8080/"
        },
        "id": "2Ru4r6FCV7vx",
        "outputId": "fdc11152-1a8b-4950-d0c5-9ebe76e5effa"
      },
      "execution_count": null,
      "outputs": [
        {
          "output_type": "stream",
          "name": "stdout",
          "text": [
            "Latency: 25 milliseconds\n"
          ]
        }
      ]
    },
    {
      "cell_type": "code",
      "source": [
        "# Hypothetical data for scalability\n",
        "N_t = 1000   # Number of transactions\n",
        "N_n = 50     # Number of nodes\n",
        "Throughput = 500  # Transactions processed per second\n",
        "\n",
        "# Scalability metric\n",
        "sigma = Throughput / (N_t * N_n)\n",
        "print(\"Scalability:\", sigma)\n"
      ],
      "metadata": {
        "colab": {
          "base_uri": "https://localhost:8080/"
        },
        "id": "jZ1GYsP5V9Kx",
        "outputId": "66417e28-1394-4bfb-e414-76b5ce22a574"
      },
      "execution_count": null,
      "outputs": [
        {
          "output_type": "stream",
          "name": "stdout",
          "text": [
            "Scalability: 0.01\n"
          ]
        }
      ]
    },
    {
      "cell_type": "code",
      "source": [
        "# Hypothetical power consumption (in watts) and time (in seconds)\n",
        "P_enc = 2.0        # Power consumption for encryption\n",
        "P_consensus = 3.5  # Power consumption for consensus\n",
        "\n",
        "T_enc_total = n_enc * T_enc  # Total time for encryption\n",
        "T_consensus_total = T_consensus  # Total time for consensus\n",
        "\n",
        "# Total energy consumption\n",
        "E = (P_enc * T_enc_total) + (P_consensus * T_consensus_total)\n",
        "print(\"Energy Consumption:\", E, \"joules\")\n"
      ],
      "metadata": {
        "colab": {
          "base_uri": "https://localhost:8080/"
        },
        "id": "vZSYfSaDWDdY",
        "outputId": "8f66f336-71b3-4280-eacf-cb6ab5383a63"
      },
      "execution_count": null,
      "outputs": [
        {
          "output_type": "stream",
          "name": "stdout",
          "text": [
            "Energy Consumption: 82.0 joules\n"
          ]
        }
      ]
    },
    {
      "cell_type": "code",
      "source": [
        "# 1. Computational Overhead\n",
        "T_enc = 0.6  # Time for encryption\n",
        "T_dec = 0.5  # Time for decryption\n",
        "T_ZKP = 0.9  # Time for ZKP generation\n",
        "T_MPC = 0.75 # Time for MPC operation\n",
        "\n",
        "n_enc = 10   # Number of encryption operations\n",
        "n_dec = 10   # Number of decryption operations\n",
        "m_ZKP = 5    # Number of ZKPs generated\n",
        "k_MPC = 4    # Number of MPC operations\n",
        "\n",
        "C_overhead = (n_enc * T_enc + n_dec * T_dec + m_ZKP * T_ZKP + k_MPC * T_MPC)\n",
        "print(\"Computational Overhead:\", C_overhead, \"seconds\")\n",
        "\n",
        "# 2. Communication Overhead\n",
        "D_MPC = 200  # Data per MPC operation (in kilobytes)\n",
        "D_ZKP = 150  # Data per ZKP exchange (in kilobytes)\n",
        "\n",
        "C_comm = (k_MPC * D_MPC + m_ZKP * D_ZKP)\n",
        "print(\"Communication Overhead:\", C_comm, \"kilobytes\")\n",
        "\n",
        "# 3. Latency\n",
        "T_consensus = 20  # Time taken to reach consensus (milliseconds)\n",
        "L_ZKP = 15        # Latency from ZKP generation (milliseconds)\n",
        "L_MPC = 25        # Latency from MPC operations (milliseconds)\n",
        "\n",
        "L = max(T_consensus, L_ZKP, L_MPC)\n",
        "print(\"Latency:\", L, \"milliseconds\")\n",
        "\n",
        "# 4. Scalability\n",
        "N_t = 1000   # Number of transactions\n",
        "N_n = 50     # Number of nodes\n",
        "Throughput = 500  # Transactions processed per second\n",
        "\n",
        "sigma = Throughput / (N_t * N_n)\n",
        "print(\"Scalability:\", sigma)\n",
        "\n",
        "# 5. Energy Consumption\n",
        "P_enc = 2.0        # Power consumption for encryption (watts)\n",
        "P_consensus = 3.5  # Power consumption for consensus (watts)\n",
        "\n",
        "T_enc_total = n_enc * T_enc  # Total time for encryption (seconds)\n",
        "T_consensus_total = T_consensus  # Total time for consensus (seconds)\n",
        "\n",
        "E = (P_enc * T_enc_total) + (P_consensus * T_consensus_total)\n",
        "print(\"Energy Consumption:\", E, \"joules\")\n"
      ],
      "metadata": {
        "colab": {
          "base_uri": "https://localhost:8080/"
        },
        "id": "7c8eHUuDWFGV",
        "outputId": "f7eb8c8a-47e8-4090-987a-b4298adda5bc"
      },
      "execution_count": null,
      "outputs": [
        {
          "output_type": "stream",
          "name": "stdout",
          "text": [
            "Computational Overhead: 18.5 seconds\n",
            "Communication Overhead: 1550 kilobytes\n",
            "Latency: 25 milliseconds\n",
            "Scalability: 0.01\n",
            "Energy Consumption: 82.0 joules\n"
          ]
        }
      ]
    },
    {
      "cell_type": "code",
      "source": [
        "import matplotlib.pyplot as plt\n",
        "import numpy as np\n",
        "\n",
        "# Labels for the comparison metrics\n",
        "labels = ['Computational Overhead (sec)', 'Communication Overhead (KB)', 'Latency (ms)', 'Scalability', 'Energy Consumption (Joules)']\n",
        "\n",
        "# Data for traditional blockchain\n",
        "traditional = [15, 1000, 20, 0.02, 65]\n",
        "\n",
        "# Data for quantum-resistant blockchain\n",
        "quantum_resistant = [18.5, 1550, 25, 0.01, 82]\n",
        "\n",
        "# Create a 2x2 grid of subplots for the graphs with smaller size\n",
        "fig, axs = plt.subplots(2, 2, figsize=(6, 6))\n",
        "\n",
        "# Plot each metric in a separate graph\n",
        "x_labels = ['Traditional', 'Quantum-Resistant']\n",
        "\n",
        "# Plot for Computational Overhead\n",
        "axs[0, 0].bar(x_labels, [traditional[0], quantum_resistant[0]], color=['blue', 'green'])\n",
        "axs[0, 0].set_title('Computational Overhead')\n",
        "axs[0, 0].set_ylabel('Time (sec)')\n",
        "\n",
        "# Plot for Communication Overhead\n",
        "axs[0, 1].bar(x_labels, [traditional[1], quantum_resistant[1]], color=['blue', 'green'])\n",
        "axs[0, 1].set_title('Communication Overhead')\n",
        "axs[0, 1].set_ylabel('Size (KB)')\n",
        "\n",
        "# Plot for Latency\n",
        "axs[1, 0].bar(x_labels, [traditional[2], quantum_resistant[2]], color=['blue', 'green'])\n",
        "axs[1, 0].set_title('Latency')\n",
        "axs[1, 0].set_ylabel('Time (ms)')\n",
        "\n",
        "# Plot for Energy Consumption\n",
        "axs[1, 1].bar(x_labels, [traditional[4], quantum_resistant[4]], color=['blue', 'green'])\n",
        "axs[1, 1].set_title('Energy Consumption')\n",
        "axs[1, 1].set_ylabel('Energy (Joules)')\n",
        "\n",
        "# Adjust layout to prevent overlap\n",
        "plt.tight_layout()\n",
        "\n",
        "# Save the plot as a smaller downloadable image\n",
        "plt.savefig('blockchain_comparison_small_plot.png')\n",
        "\n",
        "# Show the plot\n",
        "plt.show()\n"
      ],
      "metadata": {
        "colab": {
          "base_uri": "https://localhost:8080/",
          "height": 607
        },
        "id": "n52zAEPKX1oD",
        "outputId": "18a2617f-aa7e-4e7e-c2e9-bb475fbd389e"
      },
      "execution_count": null,
      "outputs": [
        {
          "output_type": "display_data",
          "data": {
            "text/plain": [
              "<Figure size 600x600 with 4 Axes>"
            ],
            "image/png": "[encoded data removed]"
          },
          "metadata": {}
        }
      ]
    }
  ]
}